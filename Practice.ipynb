{
 "cells": [
  {
   "cell_type": "code",
   "execution_count": 1,
   "metadata": {},
   "outputs": [],
   "source": [
    "import numpy as np"
   ]
  },
  {
   "cell_type": "code",
   "execution_count": 26,
   "metadata": {},
   "outputs": [],
   "source": [
    "import pandas as pd\n",
    "import matplotlib.pyplot as plt"
   ]
  },
  {
   "cell_type": "code",
   "execution_count": 3,
   "metadata": {},
   "outputs": [],
   "source": [
    "df=[1,2]"
   ]
  },
  {
   "cell_type": "code",
   "execution_count": 4,
   "metadata": {},
   "outputs": [
    {
     "data": {
      "text/plain": [
       "[1, 2]"
      ]
     },
     "execution_count": 4,
     "metadata": {},
     "output_type": "execute_result"
    }
   ],
   "source": [
    "df"
   ]
  },
  {
   "cell_type": "code",
   "execution_count": 5,
   "metadata": {},
   "outputs": [
    {
     "name": "stdout",
     "output_type": "stream",
     "text": [
      "['cherry', 'orange', 'kiwi']\n"
     ]
    }
   ],
   "source": [
    "thislist = [\"apple\", \"banana\", \"cherry\", \"orange\", \"kiwi\", \"melon\", \"mango\"]\n",
    "print(thislist[2:5])"
   ]
  },
  {
   "cell_type": "code",
   "execution_count": 6,
   "metadata": {},
   "outputs": [
    {
     "data": {
      "text/plain": [
       "'/Users/buqingyin'"
      ]
     },
     "execution_count": 6,
     "metadata": {},
     "output_type": "execute_result"
    }
   ],
   "source": [
    "pwd"
   ]
  },
  {
   "cell_type": "code",
   "execution_count": 15,
   "metadata": {},
   "outputs": [],
   "source": [
    "dataset=pd.read_csv('Data.csv')"
   ]
  },
  {
   "cell_type": "code",
   "execution_count": 16,
   "metadata": {},
   "outputs": [
    {
     "data": {
      "text/plain": [
       "<bound method DataFrame.info of    Country   Age   Salary Purchased\n",
       "0   France  44.0  72000.0        No\n",
       "1    Spain  27.0  48000.0       Yes\n",
       "2  Germany  30.0  54000.0        No\n",
       "3    Spain  38.0  61000.0        No\n",
       "4  Germany  40.0      NaN       Yes\n",
       "5   France  35.0  58000.0       Yes\n",
       "6    Spain   NaN  52000.0        No\n",
       "7   France  48.0  79000.0       Yes\n",
       "8  Germany  50.0  83000.0        No\n",
       "9   France  37.0  67000.0       Yes>"
      ]
     },
     "execution_count": 16,
     "metadata": {},
     "output_type": "execute_result"
    }
   ],
   "source": [
    "dataset.info"
   ]
  },
  {
   "cell_type": "code",
   "execution_count": 20,
   "metadata": {},
   "outputs": [
    {
     "data": {
      "text/plain": [
       "array([['France', 44.0, 72000.0],\n",
       "       ['Spain', 27.0, 48000.0],\n",
       "       ['Germany', 30.0, 54000.0],\n",
       "       ['Spain', 38.0, 61000.0],\n",
       "       ['Germany', 40.0, nan],\n",
       "       ['France', 35.0, 58000.0],\n",
       "       ['Spain', nan, 52000.0],\n",
       "       ['France', 48.0, 79000.0],\n",
       "       ['Germany', 50.0, 83000.0],\n",
       "       ['France', 37.0, 67000.0]], dtype=object)"
      ]
     },
     "execution_count": 20,
     "metadata": {},
     "output_type": "execute_result"
    }
   ],
   "source": [
    "x=dataset.iloc[:,:-1].values\n",
    "x"
   ]
  },
  {
   "cell_type": "code",
   "execution_count": 21,
   "metadata": {},
   "outputs": [
    {
     "data": {
      "text/plain": [
       "array(['No', 'Yes', 'No', 'No', 'Yes', 'Yes', 'No', 'Yes', 'No', 'Yes'],\n",
       "      dtype=object)"
      ]
     },
     "execution_count": 21,
     "metadata": {},
     "output_type": "execute_result"
    }
   ],
   "source": [
    "y=dataset.iloc[:,-1].values\n",
    "y"
   ]
  },
  {
   "cell_type": "code",
   "execution_count": 32,
   "metadata": {},
   "outputs": [],
   "source": [
    "from pandasql import sqldf"
   ]
  },
  {
   "cell_type": "code",
   "execution_count": 31,
   "metadata": {},
   "outputs": [],
   "source": [
    "from pandasql import load_births"
   ]
  },
  {
   "cell_type": "code",
   "execution_count": 35,
   "metadata": {},
   "outputs": [
    {
     "name": "stdout",
     "output_type": "stream",
     "text": [
      "                         date  births\n",
      "0  1975-01-01 00:00:00.000000  265775\n",
      "1  1975-03-01 00:00:00.000000  268849\n",
      "2  1975-05-01 00:00:00.000000  254545\n",
      "3  1975-06-01 00:00:00.000000  254096\n",
      "4  1975-07-01 00:00:00.000000  275163\n"
     ]
    }
   ],
   "source": [
    "births=load_births()\n",
    "print(sqldf(\"select * from births where births >250000 limit 5;\",locals()))"
   ]
  },
  {
   "cell_type": "code",
   "execution_count": 38,
   "metadata": {},
   "outputs": [
    {
     "name": "stdout",
     "output_type": "stream",
     "text": [
      "          DOB  total births\n",
      "0  1975-01-01        265775\n",
      "1  1975-02-01        241045\n",
      "2  1975-03-01        268849\n",
      "3  1975-04-01        247455\n",
      "4  1975-05-01        254545\n",
      "5  1975-06-01        254096\n",
      "6  1975-07-01        275163\n",
      "7  1975-08-01        281300\n",
      "8  1975-09-01        270738\n",
      "9  1975-10-01        265494\n"
     ]
    }
   ],
   "source": [
    "q=\"\"\"\n",
    "select date(date) as DOB,sum(births) as \"total births\"\n",
    "from births\n",
    "group by date\n",
    "limit 10;\n",
    "\"\"\"\n",
    "print(sqldf(q,locals()))"
   ]
  },
  {
   "cell_type": "code",
   "execution_count": 39,
   "metadata": {},
   "outputs": [
    {
     "name": "stdout",
     "output_type": "stream",
     "text": [
      "          DOB  total births\n",
      "0  1975-01-01        265775\n",
      "1  1975-02-01        241045\n",
      "2  1975-03-01        268849\n",
      "3  1975-04-01        247455\n",
      "4  1975-05-01        254545\n",
      "5  1975-06-01        254096\n",
      "6  1975-07-01        275163\n",
      "7  1975-08-01        281300\n",
      "8  1975-09-01        270738\n",
      "9  1975-10-01        265494\n"
     ]
    }
   ],
   "source": [
    "print(sqldf(q,globals()))"
   ]
  },
  {
   "cell_type": "code",
   "execution_count": 47,
   "metadata": {},
   "outputs": [
    {
     "data": {
      "text/plain": [
       "ProductKey                 int64\n",
       "OrderDateKey               int64\n",
       "DueDateKey                 int64\n",
       "ShipDateKey                int64\n",
       "CustomerKey                int64\n",
       "PromotionKey               int64\n",
       "CurrencyKey                int64\n",
       "SalesTerritoryKey          int64\n",
       "SalesOrderNumber          object\n",
       "SalesOrderLineNumber       int64\n",
       "RevisionNumber             int64\n",
       "OrderQuantity              int64\n",
       "UnitPrice                float64\n",
       "ExtendedAmount           float64\n",
       "UnitPriceDiscountPct       int64\n",
       "DiscountAmount             int64\n",
       "ProductStandardCost      float64\n",
       "TotalProductCost         float64\n",
       "SalesAmount              float64\n",
       "TaxAmt                   float64\n",
       "Freight                  float64\n",
       "CarrierTrackingNumber    float64\n",
       "CustomerPONumber         float64\n",
       "OrderDate                 object\n",
       "DueDate                   object\n",
       "ShipDate                  object\n",
       "dtype: object"
      ]
     },
     "execution_count": 47,
     "metadata": {},
     "output_type": "execute_result"
    }
   ],
   "source": [
    "dfinternetsales=pd.read_csv('FactInternetSales.csv')\n",
    "dfinternetsales.dtypes    "
   ]
  },
  {
   "cell_type": "code",
   "execution_count": 49,
   "metadata": {},
   "outputs": [],
   "source": [
    "dfcustomer=pd.read_csv('DimCustomer.csv')"
   ]
  },
  {
   "cell_type": "code",
   "execution_count": 50,
   "metadata": {},
   "outputs": [
    {
     "name": "stdout",
     "output_type": "stream",
     "text": [
      "<class 'pandas.core.frame.DataFrame'>\n",
      "RangeIndex: 18484 entries, 0 to 18483\n",
      "Data columns (total 29 columns):\n",
      " #   Column                Non-Null Count  Dtype  \n",
      "---  ------                --------------  -----  \n",
      " 0   CustomerKey           18484 non-null  int64  \n",
      " 1   GeographyKey          18484 non-null  int64  \n",
      " 2   CustomerAlternateKey  18484 non-null  object \n",
      " 3   Title                 101 non-null    object \n",
      " 4   FirstName             18484 non-null  object \n",
      " 5   MiddleName            10654 non-null  object \n",
      " 6   LastName              18484 non-null  object \n",
      " 7   NameStyle             18484 non-null  int64  \n",
      " 8   BirthDate             18484 non-null  object \n",
      " 9   MaritalStatus         18484 non-null  object \n",
      " 10  Suffix                3 non-null      object \n",
      " 11  Gender                18484 non-null  object \n",
      " 12  EmailAddress          18484 non-null  object \n",
      " 13  YearlyIncome          18484 non-null  float64\n",
      " 14  TotalChildren         18484 non-null  int64  \n",
      " 15  NumberChildrenAtHome  18484 non-null  int64  \n",
      " 16  EnglishEducation      18484 non-null  object \n",
      " 17  SpanishEducation      18484 non-null  object \n",
      " 18  FrenchEducation       18484 non-null  object \n",
      " 19  EnglishOccupation     18484 non-null  object \n",
      " 20  SpanishOccupation     18484 non-null  object \n",
      " 21  FrenchOccupation      18484 non-null  object \n",
      " 22  HouseOwnerFlag        18484 non-null  int64  \n",
      " 23  NumberCarsOwned       18484 non-null  int64  \n",
      " 24  AddressLine1          18484 non-null  object \n",
      " 25  AddressLine2          312 non-null    object \n",
      " 26  Phone                 18484 non-null  object \n",
      " 27  DateFirstPurchase     18484 non-null  object \n",
      " 28  CommuteDistance       18484 non-null  object \n",
      "dtypes: float64(1), int64(7), object(21)\n",
      "memory usage: 4.1+ MB\n"
     ]
    }
   ],
   "source": [
    "dfcustomer.info()"
   ]
  },
  {
   "cell_type": "code",
   "execution_count": 48,
   "metadata": {},
   "outputs": [
    {
     "data": {
      "text/html": [
       "<div>\n",
       "<style scoped>\n",
       "    .dataframe tbody tr th:only-of-type {\n",
       "        vertical-align: middle;\n",
       "    }\n",
       "\n",
       "    .dataframe tbody tr th {\n",
       "        vertical-align: top;\n",
       "    }\n",
       "\n",
       "    .dataframe thead th {\n",
       "        text-align: right;\n",
       "    }\n",
       "</style>\n",
       "<table border=\"1\" class=\"dataframe\">\n",
       "  <thead>\n",
       "    <tr style=\"text-align: right;\">\n",
       "      <th></th>\n",
       "      <th>ProductKey</th>\n",
       "      <th>OrderDateKey</th>\n",
       "      <th>DueDateKey</th>\n",
       "      <th>ShipDateKey</th>\n",
       "      <th>CustomerKey</th>\n",
       "      <th>PromotionKey</th>\n",
       "      <th>CurrencyKey</th>\n",
       "      <th>SalesTerritoryKey</th>\n",
       "      <th>SalesOrderNumber</th>\n",
       "      <th>SalesOrderLineNumber</th>\n",
       "      <th>...</th>\n",
       "      <th>ProductStandardCost</th>\n",
       "      <th>TotalProductCost</th>\n",
       "      <th>SalesAmount</th>\n",
       "      <th>TaxAmt</th>\n",
       "      <th>Freight</th>\n",
       "      <th>CarrierTrackingNumber</th>\n",
       "      <th>CustomerPONumber</th>\n",
       "      <th>OrderDate</th>\n",
       "      <th>DueDate</th>\n",
       "      <th>ShipDate</th>\n",
       "    </tr>\n",
       "  </thead>\n",
       "  <tbody>\n",
       "    <tr>\n",
       "      <th>0</th>\n",
       "      <td>310</td>\n",
       "      <td>20101229</td>\n",
       "      <td>20110110</td>\n",
       "      <td>20110105</td>\n",
       "      <td>21768</td>\n",
       "      <td>1</td>\n",
       "      <td>19</td>\n",
       "      <td>6</td>\n",
       "      <td>SO43697</td>\n",
       "      <td>1</td>\n",
       "      <td>...</td>\n",
       "      <td>2171.2942</td>\n",
       "      <td>2171.2942</td>\n",
       "      <td>3578.27</td>\n",
       "      <td>286.2616</td>\n",
       "      <td>89.4568</td>\n",
       "      <td>NaN</td>\n",
       "      <td>NaN</td>\n",
       "      <td>2010-12-29 00:00:00.000</td>\n",
       "      <td>2011-01-10 00:00:00.000</td>\n",
       "      <td>2011-01-05 00:00:00.000</td>\n",
       "    </tr>\n",
       "    <tr>\n",
       "      <th>1</th>\n",
       "      <td>346</td>\n",
       "      <td>20101229</td>\n",
       "      <td>20110110</td>\n",
       "      <td>20110105</td>\n",
       "      <td>28389</td>\n",
       "      <td>1</td>\n",
       "      <td>39</td>\n",
       "      <td>7</td>\n",
       "      <td>SO43698</td>\n",
       "      <td>1</td>\n",
       "      <td>...</td>\n",
       "      <td>1912.1544</td>\n",
       "      <td>1912.1544</td>\n",
       "      <td>3399.99</td>\n",
       "      <td>271.9992</td>\n",
       "      <td>84.9998</td>\n",
       "      <td>NaN</td>\n",
       "      <td>NaN</td>\n",
       "      <td>2010-12-29 00:00:00.000</td>\n",
       "      <td>2011-01-10 00:00:00.000</td>\n",
       "      <td>2011-01-05 00:00:00.000</td>\n",
       "    </tr>\n",
       "    <tr>\n",
       "      <th>2</th>\n",
       "      <td>346</td>\n",
       "      <td>20101229</td>\n",
       "      <td>20110110</td>\n",
       "      <td>20110105</td>\n",
       "      <td>25863</td>\n",
       "      <td>1</td>\n",
       "      <td>100</td>\n",
       "      <td>1</td>\n",
       "      <td>SO43699</td>\n",
       "      <td>1</td>\n",
       "      <td>...</td>\n",
       "      <td>1912.1544</td>\n",
       "      <td>1912.1544</td>\n",
       "      <td>3399.99</td>\n",
       "      <td>271.9992</td>\n",
       "      <td>84.9998</td>\n",
       "      <td>NaN</td>\n",
       "      <td>NaN</td>\n",
       "      <td>2010-12-29 00:00:00.000</td>\n",
       "      <td>2011-01-10 00:00:00.000</td>\n",
       "      <td>2011-01-05 00:00:00.000</td>\n",
       "    </tr>\n",
       "  </tbody>\n",
       "</table>\n",
       "<p>3 rows × 26 columns</p>\n",
       "</div>"
      ],
      "text/plain": [
       "   ProductKey  OrderDateKey  DueDateKey  ShipDateKey  CustomerKey  \\\n",
       "0         310      20101229    20110110     20110105        21768   \n",
       "1         346      20101229    20110110     20110105        28389   \n",
       "2         346      20101229    20110110     20110105        25863   \n",
       "\n",
       "   PromotionKey  CurrencyKey  SalesTerritoryKey SalesOrderNumber  \\\n",
       "0             1           19                  6          SO43697   \n",
       "1             1           39                  7          SO43698   \n",
       "2             1          100                  1          SO43699   \n",
       "\n",
       "   SalesOrderLineNumber  ...  ProductStandardCost  TotalProductCost  \\\n",
       "0                     1  ...            2171.2942         2171.2942   \n",
       "1                     1  ...            1912.1544         1912.1544   \n",
       "2                     1  ...            1912.1544         1912.1544   \n",
       "\n",
       "   SalesAmount    TaxAmt  Freight  CarrierTrackingNumber  CustomerPONumber  \\\n",
       "0      3578.27  286.2616  89.4568                    NaN               NaN   \n",
       "1      3399.99  271.9992  84.9998                    NaN               NaN   \n",
       "2      3399.99  271.9992  84.9998                    NaN               NaN   \n",
       "\n",
       "                 OrderDate                  DueDate                 ShipDate  \n",
       "0  2010-12-29 00:00:00.000  2011-01-10 00:00:00.000  2011-01-05 00:00:00.000  \n",
       "1  2010-12-29 00:00:00.000  2011-01-10 00:00:00.000  2011-01-05 00:00:00.000  \n",
       "2  2010-12-29 00:00:00.000  2011-01-10 00:00:00.000  2011-01-05 00:00:00.000  \n",
       "\n",
       "[3 rows x 26 columns]"
      ]
     },
     "execution_count": 48,
     "metadata": {},
     "output_type": "execute_result"
    }
   ],
   "source": [
    "dfinternetsales.head(3)"
   ]
  },
  {
   "cell_type": "code",
   "execution_count": 55,
   "metadata": {},
   "outputs": [
    {
     "name": "stdout",
     "output_type": "stream",
     "text": [
      "   FirstName LastName        JobTitle\n",
      "0      Aaron    Adams  Skilled Manual\n",
      "1       Adam    Adams      Management\n",
      "2       Alex    Adams  Skilled Manual\n",
      "3  Alexandra    Adams    Professional\n",
      "4    Allison    Adams        Clerical\n"
     ]
    }
   ],
   "source": [
    "\n",
    "from pandasql import sqldf\n",
    "print(sqldf('''select FirstName,LastName,EnglishOccupation as \"JobTitle\" from dfcustomer order by LastName,FirstName limit 5'''))\n"
   ]
  },
  {
   "cell_type": "code",
   "execution_count": 69,
   "metadata": {},
   "outputs": [
    {
     "data": {
      "text/html": [
       "<div>\n",
       "<style scoped>\n",
       "    .dataframe tbody tr th:only-of-type {\n",
       "        vertical-align: middle;\n",
       "    }\n",
       "\n",
       "    .dataframe tbody tr th {\n",
       "        vertical-align: top;\n",
       "    }\n",
       "\n",
       "    .dataframe thead th {\n",
       "        text-align: right;\n",
       "    }\n",
       "</style>\n",
       "<table border=\"1\" class=\"dataframe\">\n",
       "  <thead>\n",
       "    <tr style=\"text-align: right;\">\n",
       "      <th></th>\n",
       "      <th>CustomerKey</th>\n",
       "      <th>GeographyKey</th>\n",
       "      <th>CustomerAlternateKey</th>\n",
       "      <th>Title</th>\n",
       "      <th>FirstName</th>\n",
       "      <th>MiddleName</th>\n",
       "      <th>LastName</th>\n",
       "      <th>NameStyle</th>\n",
       "      <th>BirthDate</th>\n",
       "      <th>MaritalStatus</th>\n",
       "      <th>...</th>\n",
       "      <th>ProductStandardCost</th>\n",
       "      <th>TotalProductCost</th>\n",
       "      <th>SalesAmount</th>\n",
       "      <th>TaxAmt</th>\n",
       "      <th>Freight</th>\n",
       "      <th>CarrierTrackingNumber</th>\n",
       "      <th>CustomerPONumber</th>\n",
       "      <th>OrderDate</th>\n",
       "      <th>DueDate</th>\n",
       "      <th>ShipDate</th>\n",
       "    </tr>\n",
       "  </thead>\n",
       "  <tbody>\n",
       "    <tr>\n",
       "      <th>0</th>\n",
       "      <td>11000</td>\n",
       "      <td>26</td>\n",
       "      <td>AW00011000</td>\n",
       "      <td>None</td>\n",
       "      <td>Jon</td>\n",
       "      <td>V</td>\n",
       "      <td>Yang</td>\n",
       "      <td>0</td>\n",
       "      <td>1971-10-06</td>\n",
       "      <td>M</td>\n",
       "      <td>...</td>\n",
       "      <td>13.0863</td>\n",
       "      <td>13.0863</td>\n",
       "      <td>34.99</td>\n",
       "      <td>2.7992</td>\n",
       "      <td>0.8748</td>\n",
       "      <td>None</td>\n",
       "      <td>None</td>\n",
       "      <td>2013-05-03 00:00:00.000</td>\n",
       "      <td>2013-05-15 00:00:00.000</td>\n",
       "      <td>2013-05-10 00:00:00.000</td>\n",
       "    </tr>\n",
       "    <tr>\n",
       "      <th>1</th>\n",
       "      <td>11000</td>\n",
       "      <td>26</td>\n",
       "      <td>AW00011000</td>\n",
       "      <td>None</td>\n",
       "      <td>Jon</td>\n",
       "      <td>V</td>\n",
       "      <td>Yang</td>\n",
       "      <td>0</td>\n",
       "      <td>1971-10-06</td>\n",
       "      <td>M</td>\n",
       "      <td>...</td>\n",
       "      <td>1912.1544</td>\n",
       "      <td>1912.1544</td>\n",
       "      <td>3399.99</td>\n",
       "      <td>271.9992</td>\n",
       "      <td>84.9998</td>\n",
       "      <td>None</td>\n",
       "      <td>None</td>\n",
       "      <td>2011-01-19 00:00:00.000</td>\n",
       "      <td>2011-01-31 00:00:00.000</td>\n",
       "      <td>2011-01-26 00:00:00.000</td>\n",
       "    </tr>\n",
       "    <tr>\n",
       "      <th>2</th>\n",
       "      <td>11000</td>\n",
       "      <td>26</td>\n",
       "      <td>AW00011000</td>\n",
       "      <td>None</td>\n",
       "      <td>Jon</td>\n",
       "      <td>V</td>\n",
       "      <td>Yang</td>\n",
       "      <td>0</td>\n",
       "      <td>1971-10-06</td>\n",
       "      <td>M</td>\n",
       "      <td>...</td>\n",
       "      <td>1265.6195</td>\n",
       "      <td>1265.6195</td>\n",
       "      <td>2319.99</td>\n",
       "      <td>185.5992</td>\n",
       "      <td>57.9998</td>\n",
       "      <td>None</td>\n",
       "      <td>None</td>\n",
       "      <td>2013-01-18 00:00:00.000</td>\n",
       "      <td>2013-01-30 00:00:00.000</td>\n",
       "      <td>2013-01-25 00:00:00.000</td>\n",
       "    </tr>\n",
       "  </tbody>\n",
       "</table>\n",
       "<p>3 rows × 55 columns</p>\n",
       "</div>"
      ],
      "text/plain": [
       "   CustomerKey  GeographyKey CustomerAlternateKey Title FirstName MiddleName  \\\n",
       "0        11000            26           AW00011000  None       Jon          V   \n",
       "1        11000            26           AW00011000  None       Jon          V   \n",
       "2        11000            26           AW00011000  None       Jon          V   \n",
       "\n",
       "  LastName  NameStyle   BirthDate MaritalStatus  ... ProductStandardCost  \\\n",
       "0     Yang          0  1971-10-06             M  ...             13.0863   \n",
       "1     Yang          0  1971-10-06             M  ...           1912.1544   \n",
       "2     Yang          0  1971-10-06             M  ...           1265.6195   \n",
       "\n",
       "  TotalProductCost SalesAmount    TaxAmt  Freight  CarrierTrackingNumber  \\\n",
       "0          13.0863       34.99    2.7992   0.8748                   None   \n",
       "1        1912.1544     3399.99  271.9992  84.9998                   None   \n",
       "2        1265.6195     2319.99  185.5992  57.9998                   None   \n",
       "\n",
       "  CustomerPONumber                OrderDate                  DueDate  \\\n",
       "0             None  2013-05-03 00:00:00.000  2013-05-15 00:00:00.000   \n",
       "1             None  2011-01-19 00:00:00.000  2011-01-31 00:00:00.000   \n",
       "2             None  2013-01-18 00:00:00.000  2013-01-30 00:00:00.000   \n",
       "\n",
       "                  ShipDate  \n",
       "0  2013-05-10 00:00:00.000  \n",
       "1  2011-01-26 00:00:00.000  \n",
       "2  2013-01-25 00:00:00.000  \n",
       "\n",
       "[3 rows x 55 columns]"
      ]
     },
     "execution_count": 69,
     "metadata": {},
     "output_type": "execute_result"
    }
   ],
   "source": [
    "query='''select * \n",
    "           from dfcustomer                     c\n",
    "           left  join dfinternetsales     s\n",
    "                on (c.CustomerKey = s.CustomerKey) limit 3'''\n",
    "sqldf(query)"
   ]
  },
  {
   "cell_type": "code",
   "execution_count": 70,
   "metadata": {},
   "outputs": [
    {
     "name": "stdout",
     "output_type": "stream",
     "text": [
      "  FirstName LastName  CreditAccountId  DateReported  TransactionAmount\n",
      "0         A        F               10       1052020                111\n",
      "1         B        G               11       6032020                222\n",
      "2         C        H               13       3062020                333\n",
      "3         D        J               15      11202020                555\n"
     ]
    }
   ],
   "source": [
    "from pandas import DataFrame\n",
    "d = {'FirstName':['A','B','C','D'],'LastName':['F','G','H','J'],'CreditAccountId':[10,11,13,15],\n",
    "'DateReported':[1052020,6032020,3062020,11202020],\n",
    "'TransactionAmount':[111,222,333,555]}\n",
    "\n",
    "df = DataFrame(d,columns=['FirstName', 'LastName',\n",
    "'CreditAccountId','DateReported','TransactionAmount'])\n",
    "print(df)"
   ]
  },
  {
   "cell_type": "code",
   "execution_count": null,
   "metadata": {},
   "outputs": [],
   "source": []
  },
  {
   "cell_type": "code",
   "execution_count": 71,
   "metadata": {},
   "outputs": [
    {
     "name": "stdout",
     "output_type": "stream",
     "text": [
      "0    F\n",
      "1    G\n",
      "2    H\n",
      "3    J\n",
      "Name: LastName, dtype: object\n"
     ]
    }
   ],
   "source": [
    "print(df['LastName'])"
   ]
  },
  {
   "cell_type": "code",
   "execution_count": 73,
   "metadata": {},
   "outputs": [
    {
     "name": "stdout",
     "output_type": "stream",
     "text": [
      "A\n"
     ]
    }
   ],
   "source": [
    "print(df.iloc[0,0])"
   ]
  },
  {
   "cell_type": "code",
   "execution_count": 75,
   "metadata": {},
   "outputs": [
    {
     "name": "stdout",
     "output_type": "stream",
     "text": [
      "  FirstName LastName  CreditAccountId  DateReported  TransactionAmount\n",
      "2         C        H               13       3062020                333\n",
      "3         D        J               15      11202020                555\n"
     ]
    }
   ],
   "source": [
    "print(df[(df[\"CreditAccountId\"]>12)&(df['TransactionAmount']>200)])"
   ]
  },
  {
   "cell_type": "code",
   "execution_count": 76,
   "metadata": {},
   "outputs": [],
   "source": [
    "df['Name']=df['LastName']+df['FirstName']"
   ]
  },
  {
   "cell_type": "code",
   "execution_count": 77,
   "metadata": {},
   "outputs": [
    {
     "name": "stdout",
     "output_type": "stream",
     "text": [
      "  FirstName LastName  CreditAccountId  DateReported  TransactionAmount Name\n",
      "0         A        F               10       1052020                111   FA\n",
      "1         B        G               11       6032020                222   GB\n",
      "2         C        H               13       3062020                333   HC\n",
      "3         D        J               15      11202020                555   JD\n"
     ]
    }
   ],
   "source": [
    "print(df)"
   ]
  },
  {
   "cell_type": "code",
   "execution_count": 79,
   "metadata": {},
   "outputs": [
    {
     "name": "stdout",
     "output_type": "stream",
     "text": [
      "  FirstName LastName  TransactionAmount\n",
      "0         A        F                111\n",
      "1         A        F                222\n"
     ]
    }
   ],
   "source": [
    "df1 = pd.DataFrame({'FirstName':['A','A'],'LastName':['F','F'],'TransactionAmount':[111,222]},index=[0,1])\n",
    "df2 = pd.DataFrame({'FirstName':['C','C',],'LastName':['G','G'],'TransactionAmount':[333,555]},index=[2,3])\n",
    "df3 = pd.DataFrame({'FirstName':['D','D'],'LastName':['E','E'],'TransactionAmount':[222,888]},index=[4,5])\n",
    "print(df1)\n"
   ]
  },
  {
   "cell_type": "code",
   "execution_count": 80,
   "metadata": {},
   "outputs": [
    {
     "name": "stdout",
     "output_type": "stream",
     "text": [
      "  FirstName LastName  TransactionAmount\n",
      "2         C        G                333\n",
      "3         C        G                555\n"
     ]
    }
   ],
   "source": [
    "print(df2)\n"
   ]
  },
  {
   "cell_type": "code",
   "execution_count": 81,
   "metadata": {},
   "outputs": [
    {
     "name": "stdout",
     "output_type": "stream",
     "text": [
      "  FirstName LastName  TransactionAmount\n",
      "4         D        E                222\n",
      "5         D        E                888\n"
     ]
    }
   ],
   "source": [
    "print(df3)\n"
   ]
  },
  {
   "cell_type": "code",
   "execution_count": 85,
   "metadata": {},
   "outputs": [
    {
     "name": "stdout",
     "output_type": "stream",
     "text": [
      "  FirstName LastName  TransactionAmount\n",
      "0         A        F                111\n",
      "1         A        F                222\n",
      "2         C        G                333\n",
      "3         C        G                555\n",
      "4         D        E                222\n",
      "5         D        E                888\n"
     ]
    }
   ],
   "source": [
    "print(pd.concat([df1,df2,df3],axis=0))\n"
   ]
  },
  {
   "cell_type": "code",
   "execution_count": 86,
   "metadata": {},
   "outputs": [
    {
     "name": "stdout",
     "output_type": "stream",
     "text": [
      "  FirstName LastName  TransactionAmount FirstName LastName  TransactionAmount  \\\n",
      "0         A        F              111.0       NaN      NaN                NaN   \n",
      "1         A        F              222.0       NaN      NaN                NaN   \n",
      "2       NaN      NaN                NaN         C        G              333.0   \n",
      "3       NaN      NaN                NaN         C        G              555.0   \n",
      "4       NaN      NaN                NaN       NaN      NaN                NaN   \n",
      "5       NaN      NaN                NaN       NaN      NaN                NaN   \n",
      "\n",
      "  FirstName LastName  TransactionAmount  \n",
      "0       NaN      NaN                NaN  \n",
      "1       NaN      NaN                NaN  \n",
      "2       NaN      NaN                NaN  \n",
      "3       NaN      NaN                NaN  \n",
      "4         D        E              222.0  \n",
      "5         D        E              888.0  \n"
     ]
    }
   ],
   "source": [
    "print(pd.concat([df1,df2,df3],axis=1))"
   ]
  },
  {
   "cell_type": "code",
   "execution_count": 87,
   "metadata": {},
   "outputs": [
    {
     "name": "stdout",
     "output_type": "stream",
     "text": [
      "  Key FirstName\n",
      "0  k1         A\n",
      "1  k2         B\n",
      "  Key LastName\n",
      "0  k1        G\n",
      "1  k2        L\n"
     ]
    }
   ],
   "source": [
    "df1 = pd.DataFrame({'Key':['k1','k2'],'FirstName':['A','B']})\n",
    "df2 = pd.DataFrame({'Key':['k1','k2'],'LastName':['G','L']})\n",
    "\n",
    "print(df1)\n",
    "print(df2)\n",
    "\n"
   ]
  },
  {
   "cell_type": "code",
   "execution_count": 88,
   "metadata": {},
   "outputs": [
    {
     "name": "stdout",
     "output_type": "stream",
     "text": [
      "  Key FirstName LastName\n",
      "0  k1         A        G\n",
      "1  k2         B        L\n"
     ]
    }
   ],
   "source": [
    "print(pd.merge(df1,df2,how='inner',on='Key'))\n"
   ]
  },
  {
   "cell_type": "code",
   "execution_count": 89,
   "metadata": {},
   "outputs": [
    {
     "name": "stdout",
     "output_type": "stream",
     "text": [
      "  Key FirstName LastName\n",
      "0  k1         A        G\n",
      "1  k2         B        L\n"
     ]
    }
   ],
   "source": [
    "print(pd.merge(df1,df2,how='outer',on='Key'))\n"
   ]
  },
  {
   "cell_type": "code",
   "execution_count": 90,
   "metadata": {},
   "outputs": [
    {
     "name": "stdout",
     "output_type": "stream",
     "text": [
      "  Key FirstName LastName\n",
      "0  k1         A        G\n",
      "1  k2         B        L\n"
     ]
    }
   ],
   "source": [
    "print(pd.merge(df1,df2,how='right',on='Key'))\n"
   ]
  },
  {
   "cell_type": "code",
   "execution_count": 91,
   "metadata": {},
   "outputs": [
    {
     "name": "stdout",
     "output_type": "stream",
     "text": [
      "  Key FirstName LastName\n",
      "0  k1         A        G\n",
      "1  k2         B        L\n"
     ]
    }
   ],
   "source": [
    "print(pd.merge(df1,df2,how='left',on='Key'))"
   ]
  },
  {
   "cell_type": "code",
   "execution_count": 94,
   "metadata": {},
   "outputs": [
    {
     "name": "stdout",
     "output_type": "stream",
     "text": [
      "    TransactionAmount\n",
      "k1                222\n",
      "k2                555\n",
      "k3                888\n",
      "    FraudAmount\n",
      "k1           51\n",
      "k2           36\n",
      "k4           25\n"
     ]
    }
   ],
   "source": [
    "df3 = pd.DataFrame({'TransactionAmount':[222,555,888]},index=['k1','k2','k3'])\n",
    "df4 = pd.DataFrame({'FraudAmount':[51,36,25]},index=['k1','k2','k4'])\n",
    "print(df3)\n",
    "print(df4)\n"
   ]
  },
  {
   "cell_type": "code",
   "execution_count": 93,
   "metadata": {},
   "outputs": [
    {
     "name": "stdout",
     "output_type": "stream",
     "text": [
      "    TransactionAmount  FraudAmount\n",
      "k1              222.0         51.0\n",
      "k2              555.0         36.0\n",
      "k3              888.0          NaN\n",
      "k4                NaN         25.0\n"
     ]
    }
   ],
   "source": [
    "print(df3.join(df4, how = 'outer'))"
   ]
  },
  {
   "cell_type": "code",
   "execution_count": 95,
   "metadata": {},
   "outputs": [
    {
     "name": "stdout",
     "output_type": "stream",
     "text": [
      "    TransactionAmount  FraudAmount\n",
      "k1                222         51.0\n",
      "k2                555         36.0\n",
      "k3                888          NaN\n"
     ]
    }
   ],
   "source": [
    "print(df3.join(df4))"
   ]
  },
  {
   "cell_type": "code",
   "execution_count": 96,
   "metadata": {},
   "outputs": [
    {
     "name": "stdout",
     "output_type": "stream",
     "text": [
      "  FirstName LastName  TransactionAmount\n",
      "0         A        F                111\n",
      "1         A        F                222\n",
      "2         C        G                333\n",
      "3         C        G                555\n",
      "4         D        E                222\n",
      "5         D        E                333\n",
      "6         D        E                888\n"
     ]
    }
   ],
   "source": [
    "d = {'FirstName':['A','A','C','C','D','D','D'],'LastName':['F','F','G','G','E','E','E'],\n",
    "'TransactionAmount':[111,222,333,555,222,333,888]}\n",
    "\n",
    "df = DataFrame(d,columns=['FirstName', 'LastName',\n",
    "'TransactionAmount'])\n",
    "print(df)\n",
    "\n"
   ]
  },
  {
   "cell_type": "code",
   "execution_count": 97,
   "metadata": {},
   "outputs": [
    {
     "name": "stdout",
     "output_type": "stream",
     "text": [
      "           TransactionAmount\n",
      "FirstName                   \n",
      "A                      166.5\n",
      "C                      444.0\n",
      "D                      481.0\n"
     ]
    }
   ],
   "source": [
    "print(df.groupby('FirstName').mean())\n",
    "\n"
   ]
  },
  {
   "cell_type": "code",
   "execution_count": 98,
   "metadata": {},
   "outputs": [
    {
     "name": "stdout",
     "output_type": "stream",
     "text": [
      "           TransactionAmount\n",
      "FirstName                   \n",
      "A                        333\n",
      "C                        888\n",
      "D                       1443\n"
     ]
    }
   ],
   "source": [
    "print(df.groupby('FirstName').sum())\n"
   ]
  },
  {
   "cell_type": "code",
   "execution_count": 99,
   "metadata": {},
   "outputs": [
    {
     "name": "stdout",
     "output_type": "stream",
     "text": [
      "           TransactionAmount\n",
      "FirstName                   \n",
      "A                  78.488853\n",
      "C                 156.977705\n",
      "D                 356.815078\n"
     ]
    }
   ],
   "source": [
    "print(df.groupby('FirstName').std())\n"
   ]
  },
  {
   "cell_type": "code",
   "execution_count": 100,
   "metadata": {},
   "outputs": [
    {
     "name": "stdout",
     "output_type": "stream",
     "text": [
      "          TransactionAmount                                                   \\\n",
      "                      count   mean         std    min     25%    50%     75%   \n",
      "FirstName                                                                      \n",
      "A                       2.0  166.5   78.488853  111.0  138.75  166.5  194.25   \n",
      "C                       2.0  444.0  156.977705  333.0  388.50  444.0  499.50   \n",
      "D                       3.0  481.0  356.815078  222.0  277.50  333.0  610.50   \n",
      "\n",
      "                  \n",
      "             max  \n",
      "FirstName         \n",
      "A          222.0  \n",
      "C          555.0  \n",
      "D          888.0  \n"
     ]
    }
   ],
   "source": [
    "#max#min\n",
    "print(df.groupby('FirstName').describe())\n"
   ]
  },
  {
   "cell_type": "code",
   "execution_count": 101,
   "metadata": {},
   "outputs": [
    {
     "name": "stdout",
     "output_type": "stream",
     "text": [
      "FirstName                         A           C           D\n",
      "TransactionAmount count    2.000000    2.000000    3.000000\n",
      "                  mean   166.500000  444.000000  481.000000\n",
      "                  std     78.488853  156.977705  356.815078\n",
      "                  min    111.000000  333.000000  222.000000\n",
      "                  25%    138.750000  388.500000  277.500000\n",
      "                  50%    166.500000  444.000000  333.000000\n",
      "                  75%    194.250000  499.500000  610.500000\n",
      "                  max    222.000000  555.000000  888.000000\n"
     ]
    }
   ],
   "source": [
    "print(df.groupby('FirstName').describe().transpose())\n"
   ]
  },
  {
   "cell_type": "code",
   "execution_count": 102,
   "metadata": {},
   "outputs": [
    {
     "name": "stdout",
     "output_type": "stream",
     "text": [
      "TransactionAmount    333\n",
      "Name: A, dtype: int64\n"
     ]
    }
   ],
   "source": [
    "\n",
    "print(df.groupby('FirstName').sum().loc['A'])"
   ]
  },
  {
   "cell_type": "code",
   "execution_count": 103,
   "metadata": {},
   "outputs": [],
   "source": [
    "def myFunc(e):\n",
    "  return e['year']\n",
    "\n",
    "cars = [\n",
    "  {'car': 'Ford', 'year': 2005},\n",
    "  {'car': 'Mitsubishi', 'year': 2000},\n",
    "  {'car': 'BMW', 'year': 2019},\n",
    "  {'car': 'VW', 'year': 2011}\n",
    "]\n",
    "\n",
    "cars.sort(key=myFunc)"
   ]
  },
  {
   "cell_type": "code",
   "execution_count": 104,
   "metadata": {},
   "outputs": [
    {
     "name": "stdout",
     "output_type": "stream",
     "text": [
      "[{'car': 'Mitsubishi', 'year': 2000}, {'car': 'Ford', 'year': 2005}, {'car': 'VW', 'year': 2011}, {'car': 'BMW', 'year': 2019}]\n"
     ]
    }
   ],
   "source": [
    "print(cars)"
   ]
  },
  {
   "cell_type": "code",
   "execution_count": null,
   "metadata": {},
   "outputs": [],
   "source": []
  }
 ],
 "metadata": {
  "kernelspec": {
   "display_name": "Python 3",
   "language": "python",
   "name": "python3"
  },
  "language_info": {
   "codemirror_mode": {
    "name": "ipython",
    "version": 3
   },
   "file_extension": ".py",
   "mimetype": "text/x-python",
   "name": "python",
   "nbconvert_exporter": "python",
   "pygments_lexer": "ipython3",
   "version": "3.7.6"
  }
 },
 "nbformat": 4,
 "nbformat_minor": 4
}
